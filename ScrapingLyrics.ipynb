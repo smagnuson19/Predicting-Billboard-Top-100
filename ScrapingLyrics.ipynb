{
 "cells": [
  {
   "cell_type": "code",
   "execution_count": 1,
   "metadata": {},
   "outputs": [],
   "source": [
    "# data from https://think.cs.vt.edu/corgis/csv/music/music.html\n",
    "import pandas as pd\n",
    "\n",
    "path = '/Users/kylehalloran/Desktop/Mining/SongPopularityPredictor/music.csv'\n",
    "df = pd.read_csv(path)"
   ]
  },
  {
   "cell_type": "code",
   "execution_count": 1,
   "metadata": {},
   "outputs": [],
   "source": [
    "# SCRAPING LYRICS FOR SONGS IN THE DATABASE\n",
    "\n",
    "# import lyricsgenius\n",
    "# genius = lyricsgenius.Genius(\"H0nKs-NteAExDITisOgp2z-akFjlMXpOH9ztkXTl9AWN2QrN8TBBmnygAXsJXvDs\")\n",
    "# genius.verbose = False\n",
    "\n",
    "# # loop through all songs after 1970\n",
    "# i = 0\n",
    "# failed = 0\n",
    "# lyrics_list = []\n",
    "# relevant_df = df[df[\"year\"]>1970]\n",
    "# indeces = relevant_df.index.values.tolist() # need to get indeces\n",
    "\n",
    "# # for every song, put artist, title, lyrics into a list\n",
    "# for i in indeces:\n",
    "#     artist = str(relevant_df['artist.name'][i])\n",
    "#     title = str(relevant_df['title'][i])\n",
    "#     s = genius.search_song(title, artist)\n",
    "    \n",
    "#     try:\n",
    "#         lyrics = s.lyrics\n",
    "#         lyrics_list.append([artist, title, lyrics])  # appending list with artist name, song, and lyrics\n",
    "#     except:\n",
    "#         failed+=1\n",
    "        \n",
    "#     i+=1\n",
    "\n",
    "\n",
    "# # convert to pd df and then save to csv for future use\n",
    "# lyrics_df = pd.DataFrame(lyrics_list)\n",
    "# lyrics_df.to_csv(r'/Users/kylehalloran/Desktop/Mining/SongPopularityPredictor/lyrics.csv')\n",
    "    \n",
    "    "
   ]
  },
  {
   "cell_type": "code",
   "execution_count": 61,
   "metadata": {},
   "outputs": [
    {
     "name": "stdout",
     "output_type": "stream",
     "text": [
      "2595\n",
      "4476\n",
      "[9164, 4531, 1262, 2691, 2015, 7312, 112, 6587, 6430]\n",
      "2646\n",
      "index now is: 7149\n",
      "3333\n",
      "1143\n"
     ]
    }
   ],
   "source": [
    "print(len(lyrics_list))\n",
    "print(len(relevant_df))\n",
    "\n",
    "# lyrics_df = pd.DataFrame(lyrics_list)\n",
    "# lyrics_df.to_csv(r'/Users/kylehalloran/Desktop/Mining/SongPopularityPredictor/lyrics.csv')\n",
    "\n",
    "print(indeces[1:10]) # shows indeces were random\n",
    "\n",
    "final_df = pd.merge(left=relevant_df, right=lyrics_df, left_on=['artist.name','title'], right_on=[0,1])\n",
    "final_df.head(10)\n",
    "\n",
    "print(len(final_df)) # some duplicates\n",
    "print(\"index now is: \" + str(i))\n",
    "print(indeces.index(7149))\n",
    "print(len(indeces[3333:]))"
   ]
  },
  {
   "cell_type": "code",
   "execution_count": 62,
   "metadata": {},
   "outputs": [],
   "source": [
    "import lyricsgenius\n",
    "genius = lyricsgenius.Genius(\"H0nKs-NteAExDITisOgp2z-akFjlMXpOH9ztkXTl9AWN2QrN8TBBmnygAXsJXvDs\")\n",
    "genius.verbose = False\n",
    "\n",
    "\n",
    "remaining_indeces = indeces[3333:] # need to get indeces\n",
    "\n",
    "# for every song, put artist, title, lyrics into a list\n",
    "for i in remaining_indeces:\n",
    "    artist = str(relevant_df['artist.name'][i])\n",
    "    title = str(relevant_df['title'][i])\n",
    "    s = genius.search_song(title, artist)\n",
    "    \n",
    "    try:\n",
    "        lyrics = s.lyrics\n",
    "        lyrics_list.append([artist, title, lyrics])  # appending list with artist name, song, and lyrics\n",
    "    except:\n",
    "        failed+=1\n",
    "        \n",
    "    i+=1"
   ]
  },
  {
   "cell_type": "code",
   "execution_count": 75,
   "metadata": {},
   "outputs": [
    {
     "name": "stdout",
     "output_type": "stream",
     "text": [
      "3527\n",
      "3457\n"
     ]
    }
   ],
   "source": [
    "final_df = pd.merge(left=relevant_df, right=lyrics_df, left_on=['artist.name','title'], right_on=[0,1])\n",
    "new = final_df.drop_duplicates()\n",
    "print(len(final_df))\n",
    "print(len(new))\n",
    "\n",
    "new.to_csv(r'/Users/kylehalloran/Desktop/Mining/SongPopularityPredictor/lyrics.csv')"
   ]
  },
  {
   "cell_type": "code",
   "execution_count": null,
   "metadata": {},
   "outputs": [],
   "source": []
  }
 ],
 "metadata": {
  "kernelspec": {
   "display_name": "Python 3",
   "language": "python",
   "name": "python3"
  },
  "language_info": {
   "codemirror_mode": {
    "name": "ipython",
    "version": 3
   },
   "file_extension": ".py",
   "mimetype": "text/x-python",
   "name": "python",
   "nbconvert_exporter": "python",
   "pygments_lexer": "ipython3",
   "version": "3.7.1"
  }
 },
 "nbformat": 4,
 "nbformat_minor": 2
}
