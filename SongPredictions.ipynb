{
 "cells": [
  {
   "cell_type": "markdown",
   "metadata": {},
   "source": [
    "# Billboard Top 100 song predictions\n",
    "### Making predictions on song data from a sample of the Million Song Dataset \n",
    "* http://millionsongdataset.com/pages/getting-dataset/#subset\n",
    "* Lyrics from genius.com were brought in as another datapoint"
   ]
  },
  {
   "cell_type": "code",
   "execution_count": null,
   "metadata": {
    "collapsed": true
   },
   "outputs": [],
   "source": [
    "import sys\n",
    "#need this to get correct packages imported\n",
    "# sys.path.append(\"/Users/scottmagnuson/anaconda3/lib/python3.6/site-packages\")\n",
    "import pandas as pd\n",
    "import numpy as np\n",
    "import os, copy, nltk, string #gensim\n",
    "import xgboost as xgb\n",
    "from sklearn.model_selection import train_test_split, cross_val_score, GridSearchCV\n",
    "from sklearn.linear_model import LogisticRegression\n",
    "from sklearn.feature_extraction.text import CountVectorizer, TfidfVectorizer\n",
    "from sklearn.metrics import accuracy_score, confusion_matrix, precision_score, recall_score, f1_score\n",
    "from sklearn.decomposition import LatentDirichletAllocation\n",
    "from sklearn import tree\n",
    "from sklearn.ensemble import RandomForestClassifier\n",
    "from sklearn.neighbors import KNeighborsClassifier\n",
    "from nltk.sentiment.vader import SentimentIntensityAnalyzer\n",
    "from sklearn.dummy import DummyClassifier\n",
    "import seaborn as sns\n",
    "from matplotlib import pyplot\n",
    "from xgboost.sklearn import XGBClassifier"
   ]
  },
  {
   "cell_type": "code",
   "execution_count": 20,
   "metadata": {},
   "outputs": [
    {
     "name": "stdout",
     "output_type": "stream",
     "text": [
      "total songs in dataset: 3527\n",
      "songs on billboard: 1163\n",
      "percent of songs that made billboard: 0.3297419903600794\n"
     ]
    },
    {
     "data": {
      "text/html": [
       "<div>\n",
       "<style>\n",
       "    .dataframe thead tr:only-child th {\n",
       "        text-align: right;\n",
       "    }\n",
       "\n",
       "    .dataframe thead th {\n",
       "        text-align: left;\n",
       "    }\n",
       "\n",
       "    .dataframe tbody tr th {\n",
       "        vertical-align: top;\n",
       "    }\n",
       "</style>\n",
       "<table border=\"1\" class=\"dataframe\">\n",
       "  <thead>\n",
       "    <tr style=\"text-align: right;\">\n",
       "      <th></th>\n",
       "      <th>artist.hotttnesss</th>\n",
       "      <th>artist.id</th>\n",
       "      <th>artist.name</th>\n",
       "      <th>artist_mbtags</th>\n",
       "      <th>artist_mbtags_count</th>\n",
       "      <th>bars_confidence</th>\n",
       "      <th>bars_start</th>\n",
       "      <th>beats_confidence</th>\n",
       "      <th>beats_start</th>\n",
       "      <th>duration</th>\n",
       "      <th>...</th>\n",
       "      <th>tempo</th>\n",
       "      <th>terms</th>\n",
       "      <th>terms_freq</th>\n",
       "      <th>time_signature</th>\n",
       "      <th>time_signature_confidence</th>\n",
       "      <th>title</th>\n",
       "      <th>year</th>\n",
       "      <th>word_count</th>\n",
       "      <th>lyrics</th>\n",
       "      <th>billboard</th>\n",
       "    </tr>\n",
       "  </thead>\n",
       "  <tbody>\n",
       "    <tr>\n",
       "      <th>0</th>\n",
       "      <td>0.454231</td>\n",
       "      <td>AR7G5I41187FB4CE6C</td>\n",
       "      <td>Adam Ant</td>\n",
       "      <td>uk</td>\n",
       "      <td>1.0</td>\n",
       "      <td>0.017</td>\n",
       "      <td>1.30621</td>\n",
       "      <td>0.809</td>\n",
       "      <td>0.81002</td>\n",
       "      <td>233.40363</td>\n",
       "      <td>...</td>\n",
       "      <td>119.293</td>\n",
       "      <td>pop rock</td>\n",
       "      <td>0.988584</td>\n",
       "      <td>4.0</td>\n",
       "      <td>0.000</td>\n",
       "      <td>Something Girls</td>\n",
       "      <td>1982</td>\n",
       "      <td>249</td>\n",
       "      <td>Adam Ant/Marco Pirroni\\nEvery girl is a someth...</td>\n",
       "      <td>0</td>\n",
       "    </tr>\n",
       "    <tr>\n",
       "      <th>1</th>\n",
       "      <td>0.401724</td>\n",
       "      <td>ARXR32B1187FB57099</td>\n",
       "      <td>Gob</td>\n",
       "      <td>NaN</td>\n",
       "      <td>0.0</td>\n",
       "      <td>0.175</td>\n",
       "      <td>1.06368</td>\n",
       "      <td>0.883</td>\n",
       "      <td>0.13576</td>\n",
       "      <td>209.60608</td>\n",
       "      <td>...</td>\n",
       "      <td>129.738</td>\n",
       "      <td>pop punk</td>\n",
       "      <td>0.887288</td>\n",
       "      <td>4.0</td>\n",
       "      <td>0.562</td>\n",
       "      <td>Face the Ashes</td>\n",
       "      <td>2007</td>\n",
       "      <td>3010</td>\n",
       "      <td>I've just erased it's been a while, I've got a...</td>\n",
       "      <td>0</td>\n",
       "    </tr>\n",
       "    <tr>\n",
       "      <th>2</th>\n",
       "      <td>0.332276</td>\n",
       "      <td>AR8ZCNI1187B9A069B</td>\n",
       "      <td>Planet P Project</td>\n",
       "      <td>NaN</td>\n",
       "      <td>0.0</td>\n",
       "      <td>0.806</td>\n",
       "      <td>1.91886</td>\n",
       "      <td>0.440</td>\n",
       "      <td>1.22595</td>\n",
       "      <td>269.81832</td>\n",
       "      <td>...</td>\n",
       "      <td>86.643</td>\n",
       "      <td>new wave</td>\n",
       "      <td>0.959766</td>\n",
       "      <td>4.0</td>\n",
       "      <td>0.487</td>\n",
       "      <td>Pink World</td>\n",
       "      <td>1984</td>\n",
       "      <td>335</td>\n",
       "      <td>There's a pink world\\nComin' down\\nYeah, there...</td>\n",
       "      <td>0</td>\n",
       "    </tr>\n",
       "    <tr>\n",
       "      <th>3</th>\n",
       "      <td>0.553072</td>\n",
       "      <td>ARIK43K1187B9AE54C</td>\n",
       "      <td>Lionel Richie</td>\n",
       "      <td>soul and reggae</td>\n",
       "      <td>1.0</td>\n",
       "      <td>0.191</td>\n",
       "      <td>0.82842</td>\n",
       "      <td>1.000</td>\n",
       "      <td>0.82842</td>\n",
       "      <td>307.38240</td>\n",
       "      <td>...</td>\n",
       "      <td>125.197</td>\n",
       "      <td>quiet storm</td>\n",
       "      <td>1.000000</td>\n",
       "      <td>3.0</td>\n",
       "      <td>0.211</td>\n",
       "      <td>Tonight Will Be Alright</td>\n",
       "      <td>1986</td>\n",
       "      <td>413</td>\n",
       "      <td>[Verse 1]\\nLittle darling\\nWhere you've been s...</td>\n",
       "      <td>0</td>\n",
       "    </tr>\n",
       "    <tr>\n",
       "      <th>4</th>\n",
       "      <td>0.447935</td>\n",
       "      <td>ARD842G1187B997376</td>\n",
       "      <td>Blue Rodeo</td>\n",
       "      <td>canadian</td>\n",
       "      <td>2.0</td>\n",
       "      <td>0.507</td>\n",
       "      <td>1.32118</td>\n",
       "      <td>0.000</td>\n",
       "      <td>0.30065</td>\n",
       "      <td>491.12771</td>\n",
       "      <td>...</td>\n",
       "      <td>119.826</td>\n",
       "      <td>country rock</td>\n",
       "      <td>1.000000</td>\n",
       "      <td>4.0</td>\n",
       "      <td>0.756</td>\n",
       "      <td>Floating</td>\n",
       "      <td>1987</td>\n",
       "      <td>448</td>\n",
       "      <td>Lead Vocal by Greg\\n\\nWell, these late night c...</td>\n",
       "      <td>0</td>\n",
       "    </tr>\n",
       "  </tbody>\n",
       "</table>\n",
       "<p>5 rows × 38 columns</p>\n",
       "</div>"
      ],
      "text/plain": [
       "   artist.hotttnesss           artist.id       artist.name    artist_mbtags  \\\n",
       "0           0.454231  AR7G5I41187FB4CE6C          Adam Ant               uk   \n",
       "1           0.401724  ARXR32B1187FB57099               Gob              NaN   \n",
       "2           0.332276  AR8ZCNI1187B9A069B  Planet P Project              NaN   \n",
       "3           0.553072  ARIK43K1187B9AE54C     Lionel Richie  soul and reggae   \n",
       "4           0.447935  ARD842G1187B997376        Blue Rodeo         canadian   \n",
       "\n",
       "   artist_mbtags_count  bars_confidence  bars_start  beats_confidence  \\\n",
       "0                  1.0            0.017     1.30621             0.809   \n",
       "1                  0.0            0.175     1.06368             0.883   \n",
       "2                  0.0            0.806     1.91886             0.440   \n",
       "3                  1.0            0.191     0.82842             1.000   \n",
       "4                  2.0            0.507     1.32118             0.000   \n",
       "\n",
       "   beats_start   duration    ...        tempo         terms  terms_freq  \\\n",
       "0      0.81002  233.40363    ...      119.293      pop rock    0.988584   \n",
       "1      0.13576  209.60608    ...      129.738      pop punk    0.887288   \n",
       "2      1.22595  269.81832    ...       86.643      new wave    0.959766   \n",
       "3      0.82842  307.38240    ...      125.197   quiet storm    1.000000   \n",
       "4      0.30065  491.12771    ...      119.826  country rock    1.000000   \n",
       "\n",
       "   time_signature  time_signature_confidence                    title  year  \\\n",
       "0             4.0                      0.000          Something Girls  1982   \n",
       "1             4.0                      0.562           Face the Ashes  2007   \n",
       "2             4.0                      0.487               Pink World  1984   \n",
       "3             3.0                      0.211  Tonight Will Be Alright  1986   \n",
       "4             4.0                      0.756                 Floating  1987   \n",
       "\n",
       "   word_count                                             lyrics  billboard  \n",
       "0         249  Adam Ant/Marco Pirroni\\nEvery girl is a someth...          0  \n",
       "1        3010  I've just erased it's been a while, I've got a...          0  \n",
       "2         335  There's a pink world\\nComin' down\\nYeah, there...          0  \n",
       "3         413  [Verse 1]\\nLittle darling\\nWhere you've been s...          0  \n",
       "4         448  Lead Vocal by Greg\\n\\nWell, these late night c...          0  \n",
       "\n",
       "[5 rows x 38 columns]"
      ]
     },
     "metadata": {},
     "output_type": "display_data"
    },
    {
     "data": {
      "text/plain": [
       "Index(['artist.hotttnesss', 'artist.id', 'artist.name', 'artist_mbtags',\n",
       "       'artist_mbtags_count', 'bars_confidence', 'bars_start',\n",
       "       'beats_confidence', 'beats_start', 'duration', 'end_of_fade_in',\n",
       "       'familiarity', 'key', 'key_confidence', 'latitude', 'location',\n",
       "       'longitude', 'loudness', 'mode', 'mode_confidence', 'release.id',\n",
       "       'release.name', 'similar', 'song.hotttnesss', 'song.id',\n",
       "       'start_of_fade_out', 'tatums_confidence', 'tatums_start', 'tempo',\n",
       "       'terms', 'terms_freq', 'time_signature', 'time_signature_confidence',\n",
       "       'title', 'year', 'word_count', 'lyrics', 'billboard'],\n",
       "      dtype='object')"
      ]
     },
     "metadata": {},
     "output_type": "display_data"
    }
   ],
   "source": [
    "#Bringing in all of the datasets that were pulled from another notebooks\n",
    "path = os.getcwd()\n",
    "music = pd.read_csv(path+'/music.csv')\n",
    "lyrics = pd.read_csv(path+'/lyrics.csv')\n",
    "billboard = pd.read_csv(path+'/billboard.csv')\n",
    "\n",
    "# merge all of the datasets \n",
    "music = music[music[\"year\"]>1970]\n",
    "all_songs = pd.merge(left=music, right=lyrics, left_on=['artist.name','title'], right_on=['0','1'])\n",
    "\n",
    "del billboard['Unnamed: 0']\n",
    "billboard_songs = pd.merge(left=all_songs, right=billboard, left_on='title', right_on='title')\n",
    "billboard_songs = billboard_songs.drop_duplicates()\n",
    "print('total songs in dataset: ' + str(len(all_songs)))\n",
    "print(\"songs on billboard: \" + str(len(billboard_songs)))\n",
    "\n",
    "print('percent of songs that made billboard: ' + str(len(billboard_songs)/len(all_songs)))\n",
    "\n",
    "#More manipulation\n",
    "all_songs = all_songs.rename(index=str, columns={ \"2\": \"lyrics\", \"Unnamed: 0\" : \"word_count\"})\n",
    "all_songs = all_songs.assign(billboard=all_songs.title.isin(billboard.title).astype(int))\n",
    "all_songs = all_songs.drop(['0', '1'], axis=1)\n",
    "all_songs = all_songs.reset_index(drop=True)\n",
    "\n",
    "display(all_songs.head(5))\n",
    "display(all_songs.columns)\n"
   ]
  },
  {
   "cell_type": "code",
   "execution_count": 40,
   "metadata": {},
   "outputs": [],
   "source": [
    "#get rid of tags that have missing values and add target for train test split\n",
    "train = copy.deepcopy(all_songs)\n",
    "target = copy.deepcopy(all_songs.billboard)"
   ]
  },
  {
   "cell_type": "code",
   "execution_count": 41,
   "metadata": {
    "collapsed": true
   },
   "outputs": [],
   "source": [
    "stopWords = nltk.corpus.stopwords.words()\n",
    "punctuation = list(string.punctuation + \" \") \n",
    "translateTable = str.maketrans('','',string.punctuation)\n",
    "blacklist = [\" \", \"\", \"[\",\"]\",\"verse\",\"chorus\",\"x2\",\"x3\",\"x4\",\"x5\"] + stopWords\n",
    "\n",
    "# Preprocessor that we wound up not using. We found better results with just using stopwords.\n",
    "# Wordvectorizer was much faster at getting rid of stop words so just used that\n",
    "def preprocess(text, stopWords=[], wordStem=False, punctuation=True, lemmatize=False, includeNumbers=True):\n",
    "    sentences = nltk.sent_tokenize(text)\n",
    "    processedText = ''\n",
    "    for sentence in sentences:\n",
    "#       Get rid of weird punctuation\n",
    "        if (punctuation):\n",
    "            sentence = sentence.translate(translateTable)\n",
    "        words = nltk.word_tokenize(sentence)\n",
    "        processedSentence = []\n",
    "        for word in words:\n",
    "            \n",
    "#           Getting rid of stopwords here\n",
    "            if word not in(stopWords) and word is not \"\" :\n",
    "                word = word.lower()\n",
    "    #           Handles if we want to stemm\n",
    "                if (wordStem):\n",
    "                   word = stemmer.stem(word)\n",
    "    #           Handles if we want to lemmatize\n",
    "                if (lemmatize):\n",
    "                   word = WordNetLemmatizer().lemmatize(wordStem,'v')\n",
    "                \n",
    "                #handle if we want to include numbers\n",
    "                if (includeNumbers):\n",
    "                    processedSentence.append(word)\n",
    "                else:\n",
    "                    if (word is not word.isnumeric()):\n",
    "                        processedSentence.append(word)\n",
    "        processedString = ' '.join(processedSentence)\n",
    "        \n",
    "        if(punctuation):\n",
    "            processedString = processedString + '.'\n",
    "        processedText = processedText + \" \" + processedString\n",
    "    return processedText\n",
    "\n",
    "\n",
    "#Did not use see func def\n",
    "# train.lyrics = train.lyrics.map(lambda x: preprocess(x, lacklist))\n",
    "# train.to_csv(\"train_data.csv\")\n",
    "train = train.drop('billboard', axis=1)"
   ]
  },
  {
   "cell_type": "code",
   "execution_count": 42,
   "metadata": {},
   "outputs": [
    {
     "data": {
      "text/plain": [
       "Index(['artist.hotttnesss', 'artist.id', 'artist.name', 'artist_mbtags',\n",
       "       'artist_mbtags_count', 'bars_confidence', 'bars_start',\n",
       "       'beats_confidence', 'beats_start', 'duration', 'end_of_fade_in',\n",
       "       'familiarity', 'key', 'key_confidence', 'latitude', 'location',\n",
       "       'longitude', 'loudness', 'mode', 'mode_confidence', 'release.id',\n",
       "       'release.name', 'similar', 'song.hotttnesss', 'song.id',\n",
       "       'start_of_fade_out', 'tatums_confidence', 'tatums_start', 'tempo',\n",
       "       'terms', 'terms_freq', 'time_signature', 'time_signature_confidence',\n",
       "       'title', 'year', 'word_count', 'lyrics'],\n",
       "      dtype='object')"
      ]
     },
     "metadata": {},
     "output_type": "display_data"
    },
    {
     "name": "stderr",
     "output_type": "stream",
     "text": [
      "/anaconda3/lib/python3.6/site-packages/sklearn/preprocessing/label.py:151: DeprecationWarning: The truth value of an empty array is ambiguous. Returning False, but in future this will result in an error. Use `array.size > 0` to check that an array is not empty.\n",
      "  if diff:\n"
     ]
    },
    {
     "name": "stdout",
     "output_type": "stream",
     "text": [
      "Accuracy: 85.60%\n"
     ]
    },
    {
     "name": "stderr",
     "output_type": "stream",
     "text": [
      "/anaconda3/lib/python3.6/site-packages/sklearn/preprocessing/label.py:151: DeprecationWarning: The truth value of an empty array is ambiguous. Returning False, but in future this will result in an error. Use `array.size > 0` to check that an array is not empty.\n",
      "  if diff:\n"
     ]
    }
   ],
   "source": [
    "# train=pd.read_csv('music.csv')\n",
    "display(train.columns)\n",
    "\n",
    "#Split the data on a random state of 0\n",
    "x_train, x_test, y_train, y_test = train_test_split(train,\n",
    "                                                                        target,\n",
    "                                                                        test_size=.5,\n",
    "                                                                        train_size=.4,\n",
    "                                                                        random_state=0,\n",
    "                                                                        stratify = target)\n",
    "\n",
    "# Found the TFIDF vectorizer to perform marginally better\n",
    "vect = TfidfVectorizer(stop_words=blacklist, ngram_range=(1,2),min_df=4, binary=True).fit(x_train['lyrics']) #85.6\n",
    "# vect=CountVectorizer(stop_words=blacklist, ngram_range=(1,2),min_df=4, binary=True).fit(x_train_text) #85.1\n",
    "x_train_text_trans= vect.transform(x_train['lyrics'])\n",
    "x_test_text_trans = vect.transform(x_test['lyrics'])\n",
    "\n",
    "#Creating the XGBoost classifier for lyric data - this was found to hold the best accuracy\n",
    "XGB_model = XGBClassifier()\n",
    "XGB_model.fit(x_train_text_trans, y_train)\n",
    "\n",
    "XGB_pred = XGB_model.predict(x_test_text_trans)\n",
    "\n",
    "XGB_accuracy = XGB_model.score(x_test_text_trans, y_test)\n",
    "print(\"Accuracy: %.2f%%\" % (XGB_accuracy * 100.0)) #85.75"
   ]
  },
  {
   "cell_type": "code",
   "execution_count": 43,
   "metadata": {},
   "outputs": [
    {
     "data": {
      "text/plain": [
       "\"Adam Ant/Marco Pirroni\\nEvery girl is a something girl\\nEvery girl is a something girl\\nEvery girl is a something girl\\nShe's got something\\nShe's got something\\n\\nEvery girl is a something girl\\nEvery girl has a somehing smile\\nEvery girl is a something girl\\nFor a while\\nFor a while\\n\\nIf I had three wishes I know mine\\nI would not ask the stars to shine\\nI wouldn't ask for gems or pearls\\nI'd ask for the something girls\\n\\nEvery girl is a something girl\\nFrom the whites of her eyes\\nTo the tip of a curl\\nEvery girl sends a something boy\\nWith that something\\nWith that something\\n\\nWhen this old world won't treat you right\\nYou're not feeling yourself tonight\\nThink of someone you can do\\nRelax and let that something through\\nEvery girl is a something girl\\nEvery girl is a something girl\\nEvery girl is a something girl\\nShe's got she's got something\\nShe's got she's got something\\nEvery girl is a something girl\\nShe's got, she's got something\\nEvery girl is a something girl\\nShe's got, she's got something\\nEvery girl is a something girl\\nShe's got, she's got something\\nEvery girl is a something girl\\nShe's got, she's got something\""
      ]
     },
     "metadata": {},
     "output_type": "display_data"
    },
    {
     "data": {
      "text/plain": [
       "0.79696"
      ]
     },
     "metadata": {},
     "output_type": "display_data"
    }
   ],
   "source": [
    "#Adding on prediction of lyrics to billboard top 100 on Train\n",
    "display(train.lyrics.values[0])\n",
    "firstLyricPredict = XGB_model.predict_proba(vect.transform([train.lyrics.values[0]]))\n",
    "display(firstLyricPredict[0][0])\n",
    "\n",
    "#Predicticing the probability of each song's lyrics to reach billboard top 100 \n",
    "def xgb_predict_probability(x):\n",
    "    prediction = XGB_model.predict_proba(vect.transform([x]))\n",
    "    return prediction[0][0]\n",
    "train['lyric_predict'] = train.lyrics.map(lambda x: xgb_predict_probability(x))\n"
   ]
  },
  {
   "cell_type": "code",
   "execution_count": 44,
   "metadata": {},
   "outputs": [
    {
     "data": {
      "text/html": [
       "<div>\n",
       "<style>\n",
       "    .dataframe thead tr:only-child th {\n",
       "        text-align: right;\n",
       "    }\n",
       "\n",
       "    .dataframe thead th {\n",
       "        text-align: left;\n",
       "    }\n",
       "\n",
       "    .dataframe tbody tr th {\n",
       "        vertical-align: top;\n",
       "    }\n",
       "</style>\n",
       "<table border=\"1\" class=\"dataframe\">\n",
       "  <thead>\n",
       "    <tr style=\"text-align: right;\">\n",
       "      <th></th>\n",
       "      <th>artist.hotttnesss</th>\n",
       "      <th>artist.id</th>\n",
       "      <th>artist.name</th>\n",
       "      <th>artist_mbtags</th>\n",
       "      <th>artist_mbtags_count</th>\n",
       "      <th>bars_confidence</th>\n",
       "      <th>bars_start</th>\n",
       "      <th>beats_confidence</th>\n",
       "      <th>beats_start</th>\n",
       "      <th>duration</th>\n",
       "      <th>...</th>\n",
       "      <th>tempo</th>\n",
       "      <th>terms</th>\n",
       "      <th>terms_freq</th>\n",
       "      <th>time_signature</th>\n",
       "      <th>time_signature_confidence</th>\n",
       "      <th>title</th>\n",
       "      <th>year</th>\n",
       "      <th>word_count</th>\n",
       "      <th>lyrics</th>\n",
       "      <th>lyric_predict</th>\n",
       "    </tr>\n",
       "  </thead>\n",
       "  <tbody>\n",
       "    <tr>\n",
       "      <th>0</th>\n",
       "      <td>0.454231</td>\n",
       "      <td>AR7G5I41187FB4CE6C</td>\n",
       "      <td>Adam Ant</td>\n",
       "      <td>uk</td>\n",
       "      <td>1.0</td>\n",
       "      <td>0.017</td>\n",
       "      <td>1.30621</td>\n",
       "      <td>0.809</td>\n",
       "      <td>0.81002</td>\n",
       "      <td>233.40363</td>\n",
       "      <td>...</td>\n",
       "      <td>119.293</td>\n",
       "      <td>pop rock</td>\n",
       "      <td>0.988584</td>\n",
       "      <td>4.0</td>\n",
       "      <td>0.000</td>\n",
       "      <td>Something Girls</td>\n",
       "      <td>1982</td>\n",
       "      <td>249</td>\n",
       "      <td>Adam Ant/Marco Pirroni\\nEvery girl is a someth...</td>\n",
       "      <td>0.796960</td>\n",
       "    </tr>\n",
       "    <tr>\n",
       "      <th>1</th>\n",
       "      <td>0.401724</td>\n",
       "      <td>ARXR32B1187FB57099</td>\n",
       "      <td>Gob</td>\n",
       "      <td>NaN</td>\n",
       "      <td>0.0</td>\n",
       "      <td>0.175</td>\n",
       "      <td>1.06368</td>\n",
       "      <td>0.883</td>\n",
       "      <td>0.13576</td>\n",
       "      <td>209.60608</td>\n",
       "      <td>...</td>\n",
       "      <td>129.738</td>\n",
       "      <td>pop punk</td>\n",
       "      <td>0.887288</td>\n",
       "      <td>4.0</td>\n",
       "      <td>0.562</td>\n",
       "      <td>Face the Ashes</td>\n",
       "      <td>2007</td>\n",
       "      <td>3010</td>\n",
       "      <td>I've just erased it's been a while, I've got a...</td>\n",
       "      <td>0.920395</td>\n",
       "    </tr>\n",
       "    <tr>\n",
       "      <th>2</th>\n",
       "      <td>0.332276</td>\n",
       "      <td>AR8ZCNI1187B9A069B</td>\n",
       "      <td>Planet P Project</td>\n",
       "      <td>NaN</td>\n",
       "      <td>0.0</td>\n",
       "      <td>0.806</td>\n",
       "      <td>1.91886</td>\n",
       "      <td>0.440</td>\n",
       "      <td>1.22595</td>\n",
       "      <td>269.81832</td>\n",
       "      <td>...</td>\n",
       "      <td>86.643</td>\n",
       "      <td>new wave</td>\n",
       "      <td>0.959766</td>\n",
       "      <td>4.0</td>\n",
       "      <td>0.487</td>\n",
       "      <td>Pink World</td>\n",
       "      <td>1984</td>\n",
       "      <td>335</td>\n",
       "      <td>There's a pink world\\nComin' down\\nYeah, there...</td>\n",
       "      <td>0.761479</td>\n",
       "    </tr>\n",
       "    <tr>\n",
       "      <th>3</th>\n",
       "      <td>0.553072</td>\n",
       "      <td>ARIK43K1187B9AE54C</td>\n",
       "      <td>Lionel Richie</td>\n",
       "      <td>soul and reggae</td>\n",
       "      <td>1.0</td>\n",
       "      <td>0.191</td>\n",
       "      <td>0.82842</td>\n",
       "      <td>1.000</td>\n",
       "      <td>0.82842</td>\n",
       "      <td>307.38240</td>\n",
       "      <td>...</td>\n",
       "      <td>125.197</td>\n",
       "      <td>quiet storm</td>\n",
       "      <td>1.000000</td>\n",
       "      <td>3.0</td>\n",
       "      <td>0.211</td>\n",
       "      <td>Tonight Will Be Alright</td>\n",
       "      <td>1986</td>\n",
       "      <td>413</td>\n",
       "      <td>[Verse 1]\\nLittle darling\\nWhere you've been s...</td>\n",
       "      <td>0.808695</td>\n",
       "    </tr>\n",
       "    <tr>\n",
       "      <th>4</th>\n",
       "      <td>0.447935</td>\n",
       "      <td>ARD842G1187B997376</td>\n",
       "      <td>Blue Rodeo</td>\n",
       "      <td>canadian</td>\n",
       "      <td>2.0</td>\n",
       "      <td>0.507</td>\n",
       "      <td>1.32118</td>\n",
       "      <td>0.000</td>\n",
       "      <td>0.30065</td>\n",
       "      <td>491.12771</td>\n",
       "      <td>...</td>\n",
       "      <td>119.826</td>\n",
       "      <td>country rock</td>\n",
       "      <td>1.000000</td>\n",
       "      <td>4.0</td>\n",
       "      <td>0.756</td>\n",
       "      <td>Floating</td>\n",
       "      <td>1987</td>\n",
       "      <td>448</td>\n",
       "      <td>Lead Vocal by Greg\\n\\nWell, these late night c...</td>\n",
       "      <td>0.898278</td>\n",
       "    </tr>\n",
       "  </tbody>\n",
       "</table>\n",
       "<p>5 rows × 38 columns</p>\n",
       "</div>"
      ],
      "text/plain": [
       "   artist.hotttnesss           artist.id       artist.name    artist_mbtags  \\\n",
       "0           0.454231  AR7G5I41187FB4CE6C          Adam Ant               uk   \n",
       "1           0.401724  ARXR32B1187FB57099               Gob              NaN   \n",
       "2           0.332276  AR8ZCNI1187B9A069B  Planet P Project              NaN   \n",
       "3           0.553072  ARIK43K1187B9AE54C     Lionel Richie  soul and reggae   \n",
       "4           0.447935  ARD842G1187B997376        Blue Rodeo         canadian   \n",
       "\n",
       "   artist_mbtags_count  bars_confidence  bars_start  beats_confidence  \\\n",
       "0                  1.0            0.017     1.30621             0.809   \n",
       "1                  0.0            0.175     1.06368             0.883   \n",
       "2                  0.0            0.806     1.91886             0.440   \n",
       "3                  1.0            0.191     0.82842             1.000   \n",
       "4                  2.0            0.507     1.32118             0.000   \n",
       "\n",
       "   beats_start   duration      ...          tempo         terms  terms_freq  \\\n",
       "0      0.81002  233.40363      ...        119.293      pop rock    0.988584   \n",
       "1      0.13576  209.60608      ...        129.738      pop punk    0.887288   \n",
       "2      1.22595  269.81832      ...         86.643      new wave    0.959766   \n",
       "3      0.82842  307.38240      ...        125.197   quiet storm    1.000000   \n",
       "4      0.30065  491.12771      ...        119.826  country rock    1.000000   \n",
       "\n",
       "   time_signature  time_signature_confidence                    title  year  \\\n",
       "0             4.0                      0.000          Something Girls  1982   \n",
       "1             4.0                      0.562           Face the Ashes  2007   \n",
       "2             4.0                      0.487               Pink World  1984   \n",
       "3             3.0                      0.211  Tonight Will Be Alright  1986   \n",
       "4             4.0                      0.756                 Floating  1987   \n",
       "\n",
       "   word_count                                             lyrics  \\\n",
       "0         249  Adam Ant/Marco Pirroni\\nEvery girl is a someth...   \n",
       "1        3010  I've just erased it's been a while, I've got a...   \n",
       "2         335  There's a pink world\\nComin' down\\nYeah, there...   \n",
       "3         413  [Verse 1]\\nLittle darling\\nWhere you've been s...   \n",
       "4         448  Lead Vocal by Greg\\n\\nWell, these late night c...   \n",
       "\n",
       "   lyric_predict  \n",
       "0       0.796960  \n",
       "1       0.920395  \n",
       "2       0.761479  \n",
       "3       0.808695  \n",
       "4       0.898278  \n",
       "\n",
       "[5 rows x 38 columns]"
      ]
     },
     "metadata": {},
     "output_type": "display_data"
    },
    {
     "name": "stderr",
     "output_type": "stream",
     "text": [
      "[nltk_data] Downloading package vader_lexicon to\n",
      "[nltk_data]     /Users/scottmagnuson/nltk_data...\n",
      "[nltk_data]   Package vader_lexicon is already up-to-date!\n"
     ]
    }
   ],
   "source": [
    "# Adding sentiment analysis to the Train dataframe\n",
    "display(train.head())\n",
    "nltk.download('vader_lexicon')\n",
    "sentiment = SentimentIntensityAnalyzer()\n",
    "\n",
    "sentiments = []\n",
    "for lyrics in train['lyrics']:\n",
    "    score = sentiment.polarity_scores(lyrics)['compound']\n",
    "    sentiments.append(score)\n",
    "\n",
    "# add column to database\n",
    "train['sentiment'] = sentiments\n",
    "\n",
    "#Dropping features that either have lots of missing values or are a pre-predictor to success\n",
    "drop_attr = ['lyrics', 'familiarity', 'release.id', 'artist.hotttnesss', 'artist.id', 'artist.name', 'similar', 'terms', 'artist_mbtags', 'artist_mbtags_count', 'latitude', 'location', 'longitude', 'release.name','artist.name', 'song.id', 'title' ,'song.hotttnesss']\n",
    "train = train.drop(drop_attr, axis=1)\n",
    "# For safe keeping of data\n",
    "music.to_csv(\"final.csv\")\n"
   ]
  },
  {
   "cell_type": "code",
   "execution_count": 51,
   "metadata": {},
   "outputs": [],
   "source": [
    "#Need to drop lyric data as we are no longer using that and train/test split with same randomState\n",
    "x_test = x_test.drop('lyrics', axis=1)\n",
    "x_train = x_train.drop('lyrics', axis=1)\n",
    "# train = train.drop('lyric_predict', axis=1)\n",
    "\n",
    "\n",
    "#Here we use the same random_state to get the exact same data split but with added engineered features\n",
    "x_train, x_test, y_train, y_test = train_test_split(train,\n",
    "                                                                        target,\n",
    "                                                                        test_size=.4,\n",
    "                                                                        train_size=.5,\n",
    "                                                                        random_state=0,\n",
    "                                                                        stratify = target)\n",
    "\n"
   ]
  },
  {
   "cell_type": "code",
   "execution_count": 52,
   "metadata": {
    "collapsed": true
   },
   "outputs": [],
   "source": [
    "#for testing model and performance\n",
    "def testingModel(model, X_train, Y_train, text):\n",
    "    scores = cross_val_score(model, X_train, Y_train, cv=10, scoring = \"roc_auc\")\n",
    "    print(text)\n",
    "    print(\"Scores:\", scores)\n",
    "    print(\"Mean:\", scores.mean())\n",
    "    print(\"Standard Deviation:\", scores.std())\n",
    "    return scores.mean()\n",
    "\n",
    "def performanceModel(model ,X_test, Y_test ):\n",
    "    prediction = model.predict(X_test)\n",
    "    accuracy = model.score(X_test, Y_test)\n",
    "    print(\"Accuracy: %.2f%%\" % (accuracy * 100.0))\n",
    "    print('F1 score:',f1_score(Y_test,prediction))\n",
    "    print('Precision score', precision_score(Y_test, prediction))\n",
    "    print('Recall score', recall_score(Y_test, prediction))"
   ]
  },
  {
   "cell_type": "code",
   "execution_count": 53,
   "metadata": {},
   "outputs": [
    {
     "data": {
      "text/plain": [
       "Index(['bars_confidence', 'bars_start', 'beats_confidence', 'beats_start',\n",
       "       'duration', 'end_of_fade_in', 'key', 'key_confidence', 'loudness',\n",
       "       'mode', 'mode_confidence', 'start_of_fade_out', 'tatums_confidence',\n",
       "       'tatums_start', 'tempo', 'terms_freq', 'time_signature',\n",
       "       'time_signature_confidence', 'year', 'word_count', 'lyric_predict',\n",
       "       'sentiment'],\n",
       "      dtype='object')"
      ]
     },
     "metadata": {},
     "output_type": "display_data"
    },
    {
     "name": "stdout",
     "output_type": "stream",
     "text": [
      "XGB Classifier\n",
      "Scores: [0.90123457 0.93209877 0.83382716 0.94493827 0.88197531 0.93589744\n",
      " 0.86410256 0.86512821 0.84563758 0.91068663]\n",
      "Mean: 0.891552649190233\n",
      "Standard Deviation: 0.0372883764606849\n",
      "Accuracy: 82.78%\n",
      "F1 score: 0.2568807339449542\n",
      "Precision score 0.3652173913043478\n",
      "Recall score 0.19811320754716982\n"
     ]
    },
    {
     "name": "stderr",
     "output_type": "stream",
     "text": [
      "/anaconda3/lib/python3.6/site-packages/sklearn/preprocessing/label.py:151: DeprecationWarning: The truth value of an empty array is ambiguous. Returning False, but in future this will result in an error. Use `array.size > 0` to check that an array is not empty.\n",
      "  if diff:\n",
      "/anaconda3/lib/python3.6/site-packages/sklearn/preprocessing/label.py:151: DeprecationWarning: The truth value of an empty array is ambiguous. Returning False, but in future this will result in an error. Use `array.size > 0` to check that an array is not empty.\n",
      "  if diff:\n"
     ]
    }
   ],
   "source": [
    "#creating a basic XGB Classifier\n",
    "display(x_train.columns)\n",
    "XGB_model = XGBClassifier()\n",
    "XGB_model.fit(x_train, y_train)\n",
    "\n",
    "XGB_test = testingModel(XGB_model, x_train, y_train, 'XGB Classifier')\n",
    "performanceModel(XGB_model, x_test,y_test)\n"
   ]
  },
  {
   "cell_type": "code",
   "execution_count": 54,
   "metadata": {},
   "outputs": [
    {
     "name": "stdout",
     "output_type": "stream",
     "text": [
      "XGB Classifier\n",
      "Scores: [0.90469136 0.95135802 0.80814815 0.95382716 0.89234568 0.93897436\n",
      " 0.89487179 0.84897436 0.84099122 0.92746515]\n",
      "Mean: 0.896164725902981\n",
      "Standard Deviation: 0.04721288200138039\n",
      "Accuracy: 67.01%\n",
      "F1 score: 0.2682926829268293\n",
      "Precision score 0.3793103448275862\n",
      "Recall score 0.20754716981132076\n"
     ]
    },
    {
     "name": "stderr",
     "output_type": "stream",
     "text": [
      "/anaconda3/lib/python3.6/site-packages/sklearn/preprocessing/label.py:151: DeprecationWarning: The truth value of an empty array is ambiguous. Returning False, but in future this will result in an error. Use `array.size > 0` to check that an array is not empty.\n",
      "  if diff:\n"
     ]
    }
   ],
   "source": [
    "#We want to make the model more conservative as we don't care about recall as much and attempting to fight overfitting\n",
    "parameters = {#'tree_method':  ['gpu_hist', 'gpu_exact'], #probably want to use exact here for small dataset\n",
    "              'eta': [0.2, .3, .4], #.3 is default. We have a more less conservative (.2) and more conservative(.5)\n",
    "              'max_depth': [2,3,6], #6 is default possible overfitting?\n",
    "              'min_child_weight': [.5, 1, 5, ], #defaults to 1\n",
    "              'gamma': [0, 0.5, 1], #defaults to 0\n",
    "              'subsample':[i/10.0 for i in range(6,11)],\n",
    "              'colsample_bytree':[i/10.0 for i in range(6,11)],\n",
    "              'verbosity': [0],\n",
    "             }\n",
    "\n",
    "XGB_tuned = GridSearchCV(XGB_model, parameters, cv=5, scoring='roc_auc',n_jobs=-1)\n",
    "XGB_tuned.fit(x_train, y_train)\n",
    "XGB_test = testingModel(XGB_tuned, x_train, y_train, 'XGB Classifier')\n",
    "performanceModel(XGB_tuned, x_test,y_test)"
   ]
  },
  {
   "cell_type": "code",
   "execution_count": 55,
   "metadata": {},
   "outputs": [
    {
     "name": "stdout",
     "output_type": "stream",
     "text": [
      "Logistic Regression Model\n",
      "Scores: [0.90839506 0.94296296 0.83160494 0.95432099 0.90864198 0.91205128\n",
      " 0.90717949 0.86564103 0.8200826  0.91946309]\n",
      "Mean: 0.897034341000784\n",
      "Standard Deviation: 0.0420411698808017\n",
      "Accuracy: 68.93%\n",
      "F1 score: 0.23452768729641693\n",
      "Precision score 0.37894736842105264\n",
      "Recall score 0.16981132075471697\n"
     ]
    }
   ],
   "source": [
    "#Logistic Regression Model\n",
    "LR_model=LogisticRegression(C=.001)\n",
    "LR_model.fit(x_train,y_train)\n",
    "\n",
    "parameters = {'C':[0.001, 0.01, 0.1, 1, 10]}\n",
    "LR_model= GridSearchCV(LR_model, parameters, cv=5, scoring='roc_auc',n_jobs=-1)\n",
    "LR_model.fit(x_train,y_train)\n",
    "LR_test = testingModel(LR_model, x_train, y_train, 'Logistic Regression Model')\n",
    "performanceModel(LR_model, x_test,y_test)"
   ]
  },
  {
   "cell_type": "code",
   "execution_count": 56,
   "metadata": {},
   "outputs": [
    {
     "name": "stdout",
     "output_type": "stream",
     "text": [
      "Decision Tree Clasifier\n",
      "Scores: [0.84518519 0.84703704 0.81555556 0.95296296 0.80703704 0.87769231\n",
      " 0.87064103 0.82179487 0.80420754 0.92359319]\n",
      "Mean: 0.8565706705673148\n",
      "Standard Deviation: 0.047681425958513726\n",
      "Accuracy: 63.05%\n",
      "F1 score: 0.26865671641791045\n",
      "Precision score 0.36585365853658536\n",
      "Recall score 0.21226415094339623\n"
     ]
    }
   ],
   "source": [
    "#Decision Tree Clasifier\n",
    "DTC_model = tree.DecisionTreeClassifier()\n",
    "DTC_model.fit(x_train, y_train)\n",
    "parameters= {'max_depth': np.arange(3, 20)}\n",
    "DTC_model= GridSearchCV(DTC_model, parameters, cv=5, scoring='roc_auc',n_jobs=-1)\n",
    "DTC_model.fit(x_train,y_train)\n",
    "DTC_test = testingModel(DTC_model, x_train, y_train, 'Decision Tree Clasifier')\n",
    "performanceModel(DTC_model, x_test,y_test)"
   ]
  },
  {
   "cell_type": "code",
   "execution_count": 57,
   "metadata": {},
   "outputs": [
    {
     "name": "stdout",
     "output_type": "stream",
     "text": [
      "K Neighbors Classifier\n",
      "Scores: [0.48987654 0.51493827 0.5617284  0.5562963  0.53802469 0.60025641\n",
      " 0.6224359  0.50435897 0.67191533 0.63964894]\n",
      "Mean: 0.5699479754233668\n",
      "Standard Deviation: 0.05825941522551044\n",
      "Accuracy: 49.45%\n",
      "F1 score: 0.0\n",
      "Precision score 0.0\n",
      "Recall score 0.0\n"
     ]
    }
   ],
   "source": [
    "#K Neighbors Classifier\n",
    "\n",
    "KNN_model = KNeighborsClassifier()\n",
    "KNN_model.fit(x_train, y_train)\n",
    "parameters= {'n_neighbors': np.arange(8, 25),\n",
    "            'weights' : ['uniform', 'distance'],\n",
    "            }\n",
    "KNN_model= GridSearchCV(KNN_model, parameters, cv=5, scoring='roc_auc',n_jobs=-1)\n",
    "KNN_model.fit(x_train,y_train)\n",
    "KNN_test = testingModel(KNN_model, x_train, y_train, 'K Neighbors Classifier')\n",
    "performanceModel(KNN_model, x_test,y_test)"
   ]
  },
  {
   "cell_type": "code",
   "execution_count": 58,
   "metadata": {},
   "outputs": [
    {
     "name": "stdout",
     "output_type": "stream",
     "text": [
      "Random Forest Classifier\n",
      "Scores: [0.84567901 0.89358025 0.81987654 0.94617284 0.83518519 0.8725641\n",
      " 0.86884615 0.85025641 0.8515746  0.94501807]\n",
      "Mean: 0.872875316290305\n",
      "Standard Deviation: 0.04117829424358092\n",
      "Accuracy: 66.29%\n",
      "F1 score: 0.2621951219512195\n",
      "Precision score 0.3706896551724138\n",
      "Recall score 0.2028301886792453\n"
     ]
    }
   ],
   "source": [
    "#Random Forest Classifier\n",
    "RFC_model = RandomForestClassifier()\n",
    "parameters = { 'n_estimators': [10, 50, 100, 200, 400],\n",
    "               'max_features': ['auto', 'sqrt', 'log2']}\n",
    "\n",
    "RFC_model = GridSearchCV(RFC_model, parameters, cv=5, scoring='roc_auc',n_jobs=-1)\n",
    "RFC_model.fit(x_train,y_train)\n",
    "RFC_test = testingModel(RFC_model, x_train, y_train, 'Random Forest Classifier')\n",
    "performanceModel(RFC_model, x_test,y_test)"
   ]
  },
  {
   "cell_type": "code",
   "execution_count": 59,
   "metadata": {},
   "outputs": [
    {
     "name": "stdout",
     "output_type": "stream",
     "text": [
      "Dummy model\n",
      "Scores: [0.48222222 0.47740741 0.52592593 0.53925926 0.52111111 0.46769231\n",
      " 0.46512821 0.49692308 0.52813629 0.55743418]\n",
      "Mean: 0.5061239985468173\n",
      "Standard Deviation: 0.03077368238558932\n",
      "Accuracy: 74.84%\n",
      "F1 score: 0.1927710843373494\n",
      "Precision score 0.19704433497536947\n",
      "Recall score 0.18867924528301888\n"
     ]
    },
    {
     "name": "stderr",
     "output_type": "stream",
     "text": [
      "/anaconda3/lib/python3.6/site-packages/sklearn/dummy.py:227: FutureWarning: arrays to stack must be passed as a \"sequence\" type such as list or tuple. Support for non-sequence iterables such as generators is deprecated as of NumPy 1.16 and will raise an error in the future.\n",
      "  k in range(self.n_outputs_)).T\n"
     ]
    }
   ],
   "source": [
    "#Dummy Classifier\n",
    "dummy=DummyClassifier(strategy='stratified')\n",
    "dummy.fit(x_train, y_train)\n",
    "dummy_test = testingModel(dummy, x_train, y_train, 'Dummy model')\n",
    "performanceModel(dummy, x_test,y_test)"
   ]
  },
  {
   "cell_type": "code",
   "execution_count": 61,
   "metadata": {},
   "outputs": [
    {
     "data": {
      "image/png": "[encoded data removed]",
      "text/plain": [
       "<matplotlib.figure.Figure at 0x1a2662cb38>"
      ]
     },
     "metadata": {},
     "output_type": "display_data"
    }
   ],
   "source": [
    "# plot feature importance\n",
    "xgb.plot_importance(XGB_model)\n",
    "pyplot.show()\n"
   ]
  },
  {
   "cell_type": "code",
   "execution_count": 84,
   "metadata": {},
   "outputs": [
    {
     "data": {
      "text/html": [
       "<div>\n",
       "<style>\n",
       "    .dataframe thead tr:only-child th {\n",
       "        text-align: right;\n",
       "    }\n",
       "\n",
       "    .dataframe thead th {\n",
       "        text-align: left;\n",
       "    }\n",
       "\n",
       "    .dataframe tbody tr th {\n",
       "        vertical-align: top;\n",
       "    }\n",
       "</style>\n",
       "<table border=\"1\" class=\"dataframe\">\n",
       "  <thead>\n",
       "    <tr style=\"text-align: right;\">\n",
       "      <th></th>\n",
       "      <th>Model</th>\n",
       "    </tr>\n",
       "    <tr>\n",
       "      <th>Score</th>\n",
       "      <th></th>\n",
       "    </tr>\n",
       "  </thead>\n",
       "  <tbody>\n",
       "    <tr>\n",
       "      <th>0.897034</th>\n",
       "      <td>Logistic Regression</td>\n",
       "    </tr>\n",
       "    <tr>\n",
       "      <th>0.896165</th>\n",
       "      <td>XGBoost</td>\n",
       "    </tr>\n",
       "    <tr>\n",
       "      <th>0.872875</th>\n",
       "      <td>Random Forest</td>\n",
       "    </tr>\n",
       "    <tr>\n",
       "      <th>0.856571</th>\n",
       "      <td>Decission Tree</td>\n",
       "    </tr>\n",
       "    <tr>\n",
       "      <th>0.569948</th>\n",
       "      <td>KNN</td>\n",
       "    </tr>\n",
       "  </tbody>\n",
       "</table>\n",
       "</div>"
      ],
      "text/plain": [
       "                        Model\n",
       "Score                        \n",
       "0.897034  Logistic Regression\n",
       "0.896165              XGBoost\n",
       "0.872875        Random Forest\n",
       "0.856571       Decission Tree\n",
       "0.569948                  KNN"
      ]
     },
     "metadata": {},
     "output_type": "display_data"
    }
   ],
   "source": [
    "\n",
    "results = pd.DataFrame([{'Model': 'Logistic Regression', 'Score': LR_test},\n",
    "                        {'Model': 'XGBoost', 'Score': XGB_test},         \n",
    "                        {'Model': 'Random Forest', 'Score': RFC_test}, \n",
    "                        {'Model': 'Decission Tree', 'Score': DTC_test}, \n",
    "                        {'Model': 'KNN', 'Score': KNN_test}, \n",
    "                       ])\n",
    "\n",
    "display(results.set_index('Score'))\n"
   ]
  },
  {
   "cell_type": "code",
   "execution_count": 87,
   "metadata": {},
   "outputs": [
    {
     "name": "stdout",
     "output_type": "stream",
     "text": [
      "XGB Classifier\n",
      "Scores: [0.60345679 0.71580247 0.65555556 0.70987654 0.53234568 0.53923077\n",
      " 0.67538462 0.65307692 0.710635   0.62364481]\n",
      "Mean: 0.6419009158874931\n",
      "Standard Deviation: 0.06371322916106052\n",
      "Accuracy: 61.53%\n",
      "F1 score: 0.06278026905829595\n",
      "Precision score 0.6363636363636364\n",
      "Recall score 0.0330188679245283\n"
     ]
    },
    {
     "name": "stderr",
     "output_type": "stream",
     "text": [
      "/anaconda3/lib/python3.6/site-packages/sklearn/preprocessing/label.py:151: DeprecationWarning: The truth value of an empty array is ambiguous. Returning False, but in future this will result in an error. Use `array.size > 0` to check that an array is not empty.\n",
      "  if diff:\n"
     ]
    }
   ],
   "source": [
    "# One more without lyric prediction\n",
    "# x_train = x_train.drop('lyric_predict',axis=1)\n",
    "# x_test = x_test.drop('lyric_predict', axis=1)\n",
    "XGB_model = XGBClassifier()\n",
    "XGB_model.fit(x_train, y_train)\n",
    "parameters = {#'tree_method':  ['gpu_hist', 'gpu_exact'], #probably want to use exact here for small dataset\n",
    "              'eta': [0.2, .3, .4], #.3 is default. We have a more less conservative (.2) and more conservative(.5)\n",
    "              'max_depth': [2,3,6], #6 is default possible overfitting?\n",
    "              'min_child_weight': [.5, 1, 5, ], #defaults to 1\n",
    "              'gamma': [0, 0.5, 1], #defaults to 0\n",
    "              'subsample':[i/10.0 for i in range(6,11)],\n",
    "              'colsample_bytree':[i/10.0 for i in range(6,11)],\n",
    "              'verbosity': [0],\n",
    "             }\n",
    "\n",
    "XGB_tuned_lyrics = GridSearchCV(XGB_model, parameters, cv=5, scoring='roc_auc',n_jobs=-1)\n",
    "XGB_tuned_lyrics.fit(x_train, y_train)\n",
    "XGB_test_lyrics = testingModel(XGB_tuned_lyrics, x_train, y_train, 'XGB Classifier')\n",
    "performanceModel(XGB_tuned_lyrics, x_test,y_test)"
   ]
  },
  {
   "cell_type": "code",
   "execution_count": null,
   "metadata": {
    "collapsed": true
   },
   "outputs": [],
   "source": []
  }
 ],
 "metadata": {
  "kernelspec": {
   "display_name": "Python 3",
   "language": "python",
   "name": "python3"
  },
  "language_info": {
   "codemirror_mode": {
    "name": "ipython",
    "version": 3
   },
   "file_extension": ".py",
   "mimetype": "text/x-python",
   "name": "python",
   "nbconvert_exporter": "python",
   "pygments_lexer": "ipython3",
   "version": "3.7.1"
  }
 },
 "nbformat": 4,
 "nbformat_minor": 2
}
